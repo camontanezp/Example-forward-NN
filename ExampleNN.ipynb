{
 "cells": [
  {
   "cell_type": "markdown",
   "metadata": {},
   "source": [
    "# Assignment 4"
   ]
  },
  {
   "cell_type": "code",
   "execution_count": 3,
   "metadata": {
    "collapsed": false
   },
   "outputs": [],
   "source": [
    "# Import numpy\n",
    "import numpy as np"
   ]
  },
  {
   "cell_type": "code",
   "execution_count": 4,
   "metadata": {
    "collapsed": false
   },
   "outputs": [
    {
     "name": "stdout",
     "output_type": "stream",
     "text": [
      "[[  3.   0.   0.   0.]\n",
      " [ -4.   1.   0.   0.]\n",
      " [ -1.  -3.   0.   0.]\n",
      " [  0.   0.   2. -10.]]\n"
     ]
    }
   ],
   "source": [
    "# Initial weights\n",
    "W = np.array([[3.0,0.0,0.0,0.0],[-4.0,1.0,0.0,0.0],[-1.0,-3.0,0.0,0.0],[0.0,0.0,2.0,-10.0]])\n",
    "print(W)"
   ]
  },
  {
   "cell_type": "markdown",
   "metadata": {},
   "source": [
    "## a)"
   ]
  },
  {
   "cell_type": "code",
   "execution_count": 5,
   "metadata": {
    "collapsed": false
   },
   "outputs": [],
   "source": [
    "# Definition of activation functions\n",
    "def relu(x):\n",
    "    fx = 0.0\n",
    "    if x >= 0.0:\n",
    "        fx = x\n",
    "    return fx\n",
    "\n",
    "# relu vectorized\n",
    "v_relu = np.vectorize(relu)\n",
    "\n",
    "def sigmoid(x):\n",
    "    return 1.0/(1.0 + np.exp(-x))\n",
    "\n",
    "# sigmoid vectorized\n",
    "v_sigmoid = np.vectorize(sigmoid)\n",
    "\n",
    "# Forward propagation vectorized\n",
    "def v_fpropagation(W,X):\n",
    "    # first layer\n",
    "    W1 = W[[3],2:4:1]\n",
    "    a3a4 = X.dot(W1)\n",
    "    z3z4 = v_sigmoid(a3a4)\n",
    "    # second layer\n",
    "    W2 = W[1:3:1,[1]]\n",
    "    a2 = z3z4.dot(W2)\n",
    "    z2 = v_relu(a2)\n",
    "    # third layer\n",
    "    W3 = W[0:3:1,[0]]\n",
    "    z2z3z4 = np.append(z2,z3z4,axis=1)\n",
    "    a1 = z2z3z4.dot(W3)\n",
    "    y = v_sigmoid(a1)\n",
    "    return [y,a1,z2,a2,z3z4,a3a4]\n",
    "    "
   ]
  },
  {
   "cell_type": "markdown",
   "metadata": {},
   "source": [
    "Forward propagation on the vector $X = \\begin{bmatrix}0.0\\\\ 1.0\\\\ \\end{bmatrix}$."
   ]
  },
  {
   "cell_type": "code",
   "execution_count": 6,
   "metadata": {
    "collapsed": false
   },
   "outputs": [
    {
     "name": "stdout",
     "output_type": "stream",
     "text": [
      "Input:\n",
      " [[ 0.]\n",
      " [ 1.]]\n",
      "Output:\n",
      " [array([[ 0.07585818],\n",
      "       [ 0.2929186 ]]), array([[-2.5       ],\n",
      "       [-0.88125106]]), array([[ 0.        ],\n",
      "       [ 0.88066088]]), array([[-1.        ],\n",
      "       [ 0.88066088]]), array([[  5.00000000e-01,   5.00000000e-01],\n",
      "       [  8.80797078e-01,   4.53978687e-05]]), array([[  0.,  -0.],\n",
      "       [  2., -10.]])]\n"
     ]
    }
   ],
   "source": [
    "X = np.array([[0.0],[1.0]])\n",
    "print(\"Input:\\n\",X)\n",
    "fnn = v_fpropagation(W,X)\n",
    "print(\"Output:\\n\",fnn)"
   ]
  },
  {
   "cell_type": "markdown",
   "metadata": {},
   "source": [
    "## b)"
   ]
  },
  {
   "cell_type": "code",
   "execution_count": 7,
   "metadata": {
    "collapsed": true
   },
   "outputs": [],
   "source": [
    "# Definition of step function modified at zero\n",
    "def step(x):\n",
    "    fx = 0.0 # take this as the derivative of relu at 0\n",
    "    if x > 0:\n",
    "        fx = 1.0\n",
    "    return fx\n",
    "\n",
    "# Step vectorized\n",
    "v_step = np.vectorize(step)"
   ]
  },
  {
   "cell_type": "code",
   "execution_count": 8,
   "metadata": {
    "collapsed": true
   },
   "outputs": [],
   "source": [
    "# Definition of the errors function (calculate the deltas)\n",
    "def v_deltas(W,X,t):\n",
    "    [y,a1,z2,a2,z3z4,a3a4] = v_fpropagation(W,X)\n",
    "    delta1 = -(t-y)*y*(1-y)\n",
    "    bW1 = W[[0],0] # w2_1\n",
    "    delta2 = delta1*bW1*v_step(a2)\n",
    "    delta1d2 = np.append(delta1,delta2,axis=1)\n",
    "    bW2 = W[[1,2],0:2:1].transpose() #[[w3_1,w4_1],[w3_2,w4_2]]\n",
    "    delta3d4 = delta1d2.dot(bW2)*v_sigmoid(a3a4)*(1-v_sigmoid(a3a4))\n",
    "    bW3 = W[[3],2:4:1].transpose()\n",
    "    delta5 = delta3d4.dot(bW3)\n",
    "    return [delta1,delta2,delta3d4,delta5,y,a1,z2,a2,z3z4,a3a4]\n",
    "    \n",
    "    "
   ]
  },
  {
   "cell_type": "markdown",
   "metadata": {},
   "source": [
    "# c)"
   ]
  },
  {
   "cell_type": "code",
   "execution_count": 9,
   "metadata": {
    "collapsed": false
   },
   "outputs": [
    {
     "name": "stdout",
     "output_type": "stream",
     "text": [
      "Targets:\n",
      " [[ 0.5]\n",
      " [ 0.1]]\n",
      "Deltas:\n",
      " [array([[-0.02973392],\n",
      "       [ 0.03995678]]), array([[-0.        ],\n",
      "       [ 0.11987033]]), array([[  2.97339179e-02,   7.43347948e-03],\n",
      "       [ -4.19520531e-03,  -1.81387018e-05]]), array([[-0.01486696],\n",
      "       [-0.00820902]]), array([[ 0.07585818],\n",
      "       [ 0.2929186 ]]), array([[-2.5       ],\n",
      "       [-0.88125106]]), array([[ 0.        ],\n",
      "       [ 0.88066088]]), array([[-1.        ],\n",
      "       [ 0.88066088]]), array([[  5.00000000e-01,   5.00000000e-01],\n",
      "       [  8.80797078e-01,   4.53978687e-05]]), array([[  0.,  -0.],\n",
      "       [  2., -10.]])]\n"
     ]
    }
   ],
   "source": [
    "t = np.array([[.5],[.1]])\n",
    "print(\"Targets:\\n\",t)\n",
    "bdeltas = v_deltas(W,X,t)\n",
    "print(\"Deltas:\\n\",bdeltas)"
   ]
  },
  {
   "cell_type": "markdown",
   "metadata": {},
   "source": [
    "## d)"
   ]
  },
  {
   "cell_type": "code",
   "execution_count": 15,
   "metadata": {
    "collapsed": true
   },
   "outputs": [],
   "source": [
    "# Loss function\n",
    "def loss(W,X,t):\n",
    "    fnn = v_fpropagation(W,X)\n",
    "    y = fnn[0]\n",
    "    E = np.sum(np.square(t-y))/2\n",
    "    return E\n",
    "\n",
    "# Function to train the network using Stochastic Gradient Descent (SGD)\n",
    "def SGD(X,t,eta):\n",
    "    # Number of training samples\n",
    "    m = len(t)\n",
    "    # Initialize the weights W\n",
    "    W = np.sqrt(2)*np.random.randn(4,4)\n",
    "    multW = np.array([[1.,0.,0.,0.],[1.,1.,0.,0.],[1.,1.,0.,0.],[0.,0.,1.,1.]]) # multiply and get zeros where needed\n",
    "    W = W*multW\n",
    "    #W = np.array([[3.0,0.0,0.0,0.0],[-4.0,1.0,0.0,0.0],[-1.0,-3.0,0.0,0.0],[0.0,0.0,2.0,-10.0]])\n",
    "    # print loss and weights\n",
    "    print(\"Loss at the beginning: %f\" %loss(W,X,t))\n",
    "    print(W)\n",
    "    # vector to store loss at iteration i\n",
    "    L = []\n",
    "    # SGD\n",
    "    # random permutation of indices\n",
    "    ind = np.random.permutation(m)\n",
    "    for i in range(0,m):\n",
    "        # fpropagation, deltas and bpropagation calculated on sample i only\n",
    "        [delta1,delta2,delta3d4,delta5,y,a1,z2,a2,z3z4,a3a4] = v_deltas(W,X[[ind[i]]],t[[ind[i]]])\n",
    "        dw2_1 = delta1*z2\n",
    "        dw3n4_1 = delta1*z3z4\n",
    "        dw3n4_2 = delta2*z3z4\n",
    "        dw5_3n4 = delta3d4*X[[ind[i]]]\n",
    "        \n",
    "        # parameter update\n",
    "        W[0,0] += -eta*dw2_1\n",
    "        W[1:3:1,[0]] += -eta*dw3n4_1.transpose()\n",
    "        W[1:3:1,[1]] += -eta*dw3n4_2.transpose()\n",
    "        W[[3],2:4:1] += -eta*dw5_3n4\n",
    "        \n",
    "        # print loss and weights\n",
    "        L.append(loss(W,X,t))\n",
    "        if L[i] < 0.01:\n",
    "            return W, L\n",
    "        print(\"Loss after iteration %i: %f\" %(i, L[i]))\n",
    "        print(W)\n",
    "    \n",
    "    L = np.array(L)\n",
    "    return W, L"
   ]
  },
  {
   "cell_type": "code",
   "execution_count": 16,
   "metadata": {
    "collapsed": false
   },
   "outputs": [],
   "source": [
    "# training samples\n",
    "trainX = np.array([[-3.],[-2.],[-1.5],[-1.],[-.5],[0.],[.5],[1.],[1.5],[2.],[3.]])\n",
    "traint = np.array([[.7312],[.7339],[.7438],[.7832],[.8903],[.9820],[.8114],[.5937],[.5219],[.5049],[.5002]])"
   ]
  },
  {
   "cell_type": "code",
   "execution_count": 17,
   "metadata": {
    "collapsed": false
   },
   "outputs": [
    {
     "name": "stdout",
     "output_type": "stream",
     "text": [
      "Loss at the beginning: 1.598042\n",
      "[[-1.3587122   0.          0.          0.        ]\n",
      " [-2.21111822 -0.80143146 -0.          0.        ]\n",
      " [-0.47101429  0.06698397  0.          0.        ]\n",
      " [ 0.          0.         -1.52491538  1.97349581]]\n",
      "Loss after iteration 0: 1.116756\n",
      "[[-1.3587122   0.          0.          0.        ]\n",
      " [-1.57454845 -0.80143146 -0.          0.        ]\n",
      " [ 0.16555548  0.06698397  0.          0.        ]\n",
      " [ 0.          0.         -1.52491538  1.97349581]]\n",
      "Loss after iteration 1: 0.698224\n",
      "[[-1.3587122   0.          0.          0.        ]\n",
      " [-0.78204585 -0.80143146 -0.          0.        ]\n",
      " [ 0.16769865  0.06698397  0.          0.        ]\n",
      " [ 0.          0.         -1.48671771  1.97243422]]\n",
      "Loss after iteration 2: 0.299130\n",
      "[[-1.3587122   0.          0.          0.        ]\n",
      " [ 0.03183913 -0.80143146 -0.          0.        ]\n",
      " [ 0.49393469  0.06698397  0.          0.        ]\n",
      " [ 0.          0.         -1.384156    1.95251072]]\n",
      "Loss after iteration 3: 0.164363\n",
      "[[-1.3587122   0.          0.          0.        ]\n",
      " [ 0.5434334  -0.80143146 -0.          0.        ]\n",
      " [ 0.5231538   0.06698397  0.          0.        ]\n",
      " [ 0.          0.         -1.38687854  1.93196088]]\n",
      "Loss after iteration 4: 0.118528\n",
      "[[-1.3587122   0.          0.          0.        ]\n",
      " [ 0.84515319 -0.80143146 -0.          0.        ]\n",
      " [ 0.57087038  0.06698397  0.          0.        ]\n",
      " [ 0.          0.         -1.41965614  1.91015644]]\n",
      "Loss after iteration 5: 0.121689\n",
      "[[-1.3587122   0.          0.          0.        ]\n",
      " [ 0.95163175 -0.80143146 -0.          0.        ]\n",
      " [ 0.80413293  0.06698397  0.          0.        ]\n",
      " [ 0.          0.         -1.38949291  1.92865704]]\n",
      "Loss after iteration 6: 0.113655\n",
      "[[-1.37984516  0.          0.          0.        ]\n",
      " [ 0.94572937 -0.79341181 -0.          0.        ]\n",
      " [ 0.41802094  0.59159904  0.          0.        ]\n",
      " [ 0.          0.         -1.42507455  1.92612861]]\n",
      "Loss after iteration 7: 0.081093\n",
      "[[-1.30582485  0.          0.          0.        ]\n",
      " [ 0.98531119 -0.8480286  -0.          0.        ]\n",
      " [ 0.59622439  0.34570587  0.          0.        ]\n",
      " [ 0.          0.         -1.35996539  1.91710173]]\n",
      "Loss after iteration 8: 0.096945\n",
      "[[-1.34966699  0.          0.          0.        ]\n",
      " [ 0.97583566 -0.83565522 -0.          0.        ]\n",
      " [ 0.44616141  0.54166184  0.          0.        ]\n",
      " [ 0.          0.         -1.39717283  1.91618215]]\n",
      "Loss after iteration 9: 0.093470\n",
      "[[-1.34966699  0.          0.          0.        ]\n",
      " [ 1.00838176 -0.83565522 -0.          0.        ]\n",
      " [ 0.44689356  0.54166184  0.          0.        ]\n",
      " [ 0.          0.         -1.40083348  1.91554269]]\n",
      "Loss after iteration 10: 0.078838\n",
      "[[-1.31706287  0.          0.          0.        ]\n",
      " [ 1.01680883 -0.84702895 -0.          0.        ]\n",
      " [ 0.52008726  0.44287471  0.          0.        ]\n",
      " [ 0.          0.         -1.37677286  1.91387389]]\n"
     ]
    }
   ],
   "source": [
    "# Learning rate eta\n",
    "eta = 10\n",
    "# training the nn\n",
    "Wmodel, Loss = SGD(trainX,traint,eta)"
   ]
  },
  {
   "cell_type": "code",
   "execution_count": 18,
   "metadata": {
    "collapsed": false
   },
   "outputs": [
    {
     "name": "stdout",
     "output_type": "stream",
     "text": [
      "[[ 0.73152693]\n",
      " [ 0.72451931]\n",
      " [ 0.71713057]\n",
      " [ 0.70656289]\n",
      " [ 0.69447318]\n",
      " [ 0.68318508]\n",
      " [ 0.66091854]\n",
      " [ 0.59258358]\n",
      " [ 0.54491367]\n",
      " [ 0.51645451]\n",
      " [ 0.49268486]]\n"
     ]
    }
   ],
   "source": [
    "# check predictions of the model on training samples\n",
    "fnn = v_fpropagation(Wmodel,trainX)\n",
    "print(fnn[0])"
   ]
  },
  {
   "cell_type": "code",
   "execution_count": 19,
   "metadata": {
    "collapsed": false
   },
   "outputs": [
    {
     "data": {
      "text/plain": [
       "<matplotlib.text.Text at 0x10c7950f0>"
      ]
     },
     "execution_count": 19,
     "metadata": {},
     "output_type": "execute_result"
    },
    {
     "data": {
      "image/png": "[encoded data removed]",
      "text/plain": [
       "<matplotlib.figure.Figure at 0x10c3fe710>"
      ]
     },
     "metadata": {},
     "output_type": "display_data"
    }
   ],
   "source": [
    "# plot of evolution of errors\n",
    "%matplotlib inline\n",
    "import matplotlib.pyplot as plt\n",
    "plt.plot(Loss)\n",
    "plt.title(\"Loss vs. Iteration No.\")"
   ]
  },
  {
   "cell_type": "code",
   "execution_count": null,
   "metadata": {
    "collapsed": true
   },
   "outputs": [],
   "source": []
  }
 ],
 "metadata": {
  "kernelspec": {
   "display_name": "Python 3",
   "language": "python",
   "name": "python3"
  },
  "language_info": {
   "codemirror_mode": {
    "name": "ipython",
    "version": 3
   },
   "file_extension": ".py",
   "mimetype": "text/x-python",
   "name": "python",
   "nbconvert_exporter": "python",
   "pygments_lexer": "ipython3",
   "version": "3.5.1"
  }
 },
 "nbformat": 4,
 "nbformat_minor": 0
}
